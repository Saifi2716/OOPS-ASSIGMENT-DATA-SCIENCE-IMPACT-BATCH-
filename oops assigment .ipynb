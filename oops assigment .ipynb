{
 "cells": [
  {
   "cell_type": "code",
   "execution_count": 1,
   "id": "2b54ea67-ee0a-41bc-91c5-6f7a9aadbc31",
   "metadata": {},
   "outputs": [
    {
     "name": "stdout",
     "output_type": "stream",
     "text": [
      "Rectangle Area: 15\n",
      "Rectangle Perimeter: 16\n",
      "Circle Area: 153.86\n",
      "Circle Perimeter: 43.96\n"
     ]
    }
   ],
   "source": [
    "###Q1. What is Abstraction in OOps? Explain with an example.\n",
    "\"\"\"ANS:Abstraction in OOPs\n",
    "Abstraction is one of the four fundamental principles of Object-Oriented Programming (OOP). It involves hiding the implementation details of a class and exposing only the essential features to the user. This helps in reducing complexity and increases the reusability of code by focusing on what an object does rather than how it does it.\"\"\"\n",
    "from abc import ABC, abstractmethod\n",
    "\n",
    "# Abstract Class\n",
    "class Shape(ABC):\n",
    "    @abstractmethod\n",
    "    def area(self):\n",
    "        pass\n",
    "    \n",
    "    @abstractmethod\n",
    "    def perimeter(self):\n",
    "        pass\n",
    "\n",
    "# Concrete Class\n",
    "class Rectangle(Shape):\n",
    "    def __init__(self, width, height):\n",
    "        self.width = width\n",
    "        self.height = height\n",
    "    \n",
    "    def area(self):\n",
    "        return self.width * self.height\n",
    "    \n",
    "    def perimeter(self):\n",
    "        return 2 * (self.width + self.height)\n",
    "\n",
    "# Concrete Class\n",
    "class Circle(Shape):\n",
    "    def __init__(self, radius):\n",
    "        self.radius = radius\n",
    "    \n",
    "    def area(self):\n",
    "        return 3.14 * self.radius * self.radius\n",
    "    \n",
    "    def perimeter(self):\n",
    "        return 2 * 3.14 * self.radius\n",
    "\n",
    "# Using Abstraction\n",
    "rect = Rectangle(5, 3)\n",
    "circle = Circle(7)\n",
    "\n",
    "print(\"Rectangle Area:\", rect.area())\n",
    "print(\"Rectangle Perimeter:\", rect.perimeter())\n",
    "\n",
    "print(\"Circle Area:\", circle.area())\n",
    "print(\"Circle Perimeter:\", circle.perimeter())\n"
   ]
  },
  {
   "cell_type": "code",
   "execution_count": 3,
   "id": "3b135911-686d-4e24-9bbc-99effc430d84",
   "metadata": {},
   "outputs": [
    {
     "name": "stdout",
     "output_type": "stream",
     "text": [
      "Bark\n",
      "Meow\n"
     ]
    }
   ],
   "source": [
    "#Q2. Differentiate between Abstraction and Encapsulation. Explain with an example.\n",
    "\"\"\"ANS : Difference between Abstraction and Encapsulation\n",
    "Feature\tAbstraction\tEncapsulation\n",
    "Definition\tHiding implementation details and showing only essential features.\tWrapping data (variables) and methods into a single unit (class) and controlling access.\n",
    "Focus\tFocuses on what an object does (interface).\tFocuses on how the data is protected and managed (implementation).\n",
    "Purpose\tTo reduce complexity by hiding unnecessary details.\tTo ensure data security and prevent unauthorized access.\n",
    "Implementation\tAchieved using abstract classes and interfaces.\tAchieved using access modifiers (private, protected, public).\n",
    "Real-world analogy\tUsing an ATM: You know the operations (withdraw, deposit) but not the internal mechanism.\tA medicine capsule: Contains ingredients (data) wrapped securely inside.\n",
    "Relation\tDeals with the external behavior of objects.\tDeals with the internal state of objects.\"\"\"\n",
    "from abc import ABC, abstractmethod\n",
    "\n",
    "# Abstract Class\n",
    "class Animal(ABC):\n",
    "    @abstractmethod\n",
    "    def sound(self):\n",
    "        pass\n",
    "\n",
    "class Dog(Animal):\n",
    "    def sound(self):\n",
    "        return \"Bark\"\n",
    "\n",
    "class Cat(Animal):\n",
    "    def sound(self):\n",
    "        return \"Meow\"\n",
    "\n",
    "# Using Abstraction\n",
    "animals = [Dog(), Cat()]\n",
    "for animal in animals:\n",
    "    print(animal.sound())\n"
   ]
  },
  {
   "cell_type": "code",
   "execution_count": 5,
   "id": "456a9f87-6d6a-4deb-aef2-7a34a5d4e745",
   "metadata": {},
   "outputs": [
    {
     "name": "stdout",
     "output_type": "stream",
     "text": [
      "Car engine started.\n",
      "Car engine stopped.\n",
      "Bike engine started.\n",
      "Bike engine stopped.\n"
     ]
    }
   ],
   "source": [
    "#Q3. What is abc module in python? Why is it used?\n",
    "\"\"\" ANS : abc Module in Python\n",
    "The abc module in Python stands for Abstract Base Classes. It provides the infrastructure to define abstract base classes (ABCs) in Python. An abstract base class is a blueprint for other classes, allowing you to define methods that must be implemented in any concrete subclass.\n",
    "from abc import ABC, abstractmethod\"\"\"\n",
    "\n",
    "# Abstract Base Class\n",
    "class Vehicle(ABC):\n",
    "    @abstractmethod\n",
    "    def start_engine(self):\n",
    "        pass\n",
    "\n",
    "    @abstractmethod\n",
    "    def stop_engine(self):\n",
    "        pass\n",
    "\n",
    "# Concrete Class\n",
    "class Car(Vehicle):\n",
    "    def start_engine(self):\n",
    "        return \"Car engine started.\"\n",
    "\n",
    "    def stop_engine(self):\n",
    "        return \"Car engine stopped.\"\n",
    "\n",
    "class Bike(Vehicle):\n",
    "    def start_engine(self):\n",
    "        return \"Bike engine started.\"\n",
    "\n",
    "    def stop_engine(self):\n",
    "        return \"Bike engine stopped.\"\n",
    "\n",
    "# Using the Abstract Base Class\n",
    "vehicles = [Car(), Bike()]\n",
    "\n",
    "for vehicle in vehicles:\n",
    "    print(vehicle.start_engine())\n",
    "    print(vehicle.stop_engine())\n"
   ]
  },
  {
   "cell_type": "code",
   "execution_count": 7,
   "id": "4183c62c-82f1-44b4-b522-4b95683e9a90",
   "metadata": {},
   "outputs": [
    {
     "name": "stdout",
     "output_type": "stream",
     "text": [
      "Area: 50\n",
      "Perimeter: 30\n"
     ]
    }
   ],
   "source": [
    "#Q4. How can we achieve data abstraction?\n",
    "\"\"\"ANS : Data abstraction refers to the process of hiding the internal details of an object and exposing only the essential features to the outside world. In Python, data abstraction is achieved using abstract classes and interfaces, typically implemented through the abc module.\"\"\"\n",
    "\n",
    "\n",
    "from abc import ABC, abstractmethod\n",
    "\n",
    "class Shape(ABC):\n",
    "    @abstractmethod\n",
    "    def area(self):\n",
    "        pass\n",
    "\n",
    "    @abstractmethod\n",
    "    def perimeter(self):\n",
    "        pass\n",
    "\n",
    "class Rectangle(Shape):\n",
    "    def __init__(self, width, height):\n",
    "        self.width = width\n",
    "        self.height = height\n",
    "\n",
    "    def area(self):\n",
    "        return self.width * self.height\n",
    "\n",
    "    def perimeter(self):\n",
    "        return 2 * (self.width + self.height)\n",
    "\n",
    "# Instantiating the subclass\n",
    "rect = Rectangle(10, 5)\n",
    "print(\"Area:\", rect.area())\n",
    "print(\"Perimeter:\", rect.perimeter())\n"
   ]
  },
  {
   "cell_type": "code",
   "execution_count": 9,
   "id": "01bd3793-cc8d-4050-8dda-6bf5e7358966",
   "metadata": {},
   "outputs": [
    {
     "name": "stdout",
     "output_type": "stream",
     "text": [
      "Error: Can't instantiate abstract class Shape without an implementation for abstract methods 'area', 'perimeter'\n"
     ]
    }
   ],
   "source": [
    "#Q5. Can we create an instance of an abstract class? Explain your answer.\n",
    "from abc import ABC, abstractmethod\n",
    "\n",
    "# Abstract Class\n",
    "class Shape(ABC):\n",
    "    @abstractmethod\n",
    "    def area(self):\n",
    "        pass\n",
    "\n",
    "    @abstractmethod\n",
    "    def perimeter(self):\n",
    "        pass\n",
    "\n",
    "# Attempt to create an instance of the abstract class\n",
    "try:\n",
    "    shape = Shape()  # This will raise an error\n",
    "except TypeError as e:\n",
    "    print(f\"Error: {e}\")\n"
   ]
  },
  {
   "cell_type": "code",
   "execution_count": null,
   "id": "b0f7cc88-0c01-46bd-a9bf-c8c038969906",
   "metadata": {},
   "outputs": [],
   "source": []
  }
 ],
 "metadata": {
  "kernelspec": {
   "display_name": "Python 3 (ipykernel)",
   "language": "python",
   "name": "python3"
  },
  "language_info": {
   "codemirror_mode": {
    "name": "ipython",
    "version": 3
   },
   "file_extension": ".py",
   "mimetype": "text/x-python",
   "name": "python",
   "nbconvert_exporter": "python",
   "pygments_lexer": "ipython3",
   "version": "3.12.4"
  }
 },
 "nbformat": 4,
 "nbformat_minor": 5
}
